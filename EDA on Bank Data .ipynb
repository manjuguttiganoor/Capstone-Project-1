{
 "cells": [
  {
   "cell_type": "markdown",
   "id": "d6ca6d2f",
   "metadata": {},
   "source": [
    "## EDA on Bank Dataset"
   ]
  },
  {
   "cell_type": "markdown",
   "id": "4d530af4",
   "metadata": {},
   "source": [
    "1 - age (numeric)\n",
    "2 - job : type of job (categorical: \"admin.\",\"unknown\",\"unemployed\",\"management\",\"housemaid\",\"entrepreneur\",\"student\",\n",
    "                                       \"blue-collar\",\"self-employed\",\"retired\",\"technician\",\"services\") \n",
    "3 - marital : marital status (categorical: \"married\",\"divorced\",\"single\"; note: \"divorced\" means divorced or widowed)\n",
    "4 - education (categorical: \"unknown\",\"secondary\",\"primary\",\"tertiary\")\n",
    "5 - default: has credit in default? (binary: \"yes\",\"no\")\n",
    "6 - balance: average yearly balance, in euros (numeric) \n",
    "7 - housing: has housing loan? (binary: \"yes\",\"no\")\n",
    "8 - loan: has personal loan? (binary: \"yes\",\"no\")\n",
    "   \n",
    "   ** related with the last contact of the current campaign:**\n",
    "   \n",
    "9 - contact: contact communication type (categorical: \"unknown\",\"telephone\",\"cellular\") \n",
    "10 - day: last contact day of the month (numeric)\n",
    "11 - month: last contact month of year (categorical: \"jan\", \"feb\", \"mar\", ..., \"nov\", \"dec\")\n",
    "12 - duration: last contact duration, in seconds (numeric)\n",
    "   \n",
    "   **other attributes:**\n",
    "   \n",
    "13 - campaign: number of contacts performed during this campaign and for this client (numeric, includes last contact)\n",
    "14 - pdays: number of days that passed by after the client was last contacted from a previous campaign (numeric, -1 means client was not previously contacted)\n",
    "15 - previous: number of contacts performed before this campaign and for this client (numeric)\n",
    "16 - poutcome: outcome of the previous marketing campaign (categorical: \"unknown\",\"other\",\"failure\",\"success\")\n",
    "\n",
    "Output variable (desired target):\n",
    "17 - y - has the client subscribed a term deposit? (binary: \"yes\",\"no\")\n"
   ]
  },
  {
   "cell_type": "code",
   "execution_count": 1,
   "id": "c5b1cfd8",
   "metadata": {},
   "outputs": [],
   "source": [
    "import pandas as pd\n",
    "import numpy as np\n",
    "import matplotlib.pyplot as plt\n",
    "import seaborn as sns"
   ]
  },
  {
   "cell_type": "code",
   "execution_count": 2,
   "id": "90c28891",
   "metadata": {},
   "outputs": [
    {
     "data": {
      "text/plain": [
       "'F:\\\\Python Training\\\\Imarticus\\\\EDA'"
      ]
     },
     "execution_count": 2,
     "metadata": {},
     "output_type": "execute_result"
    }
   ],
   "source": [
    "import os\n",
    "os.getcwd()"
   ]
  },
  {
   "cell_type": "code",
   "execution_count": 3,
   "id": "ab50ca54",
   "metadata": {},
   "outputs": [],
   "source": [
    "df = pd.read_csv('bank/bank-full.csv', sep=';')"
   ]
  },
  {
   "cell_type": "code",
   "execution_count": 4,
   "id": "c80dcaa2",
   "metadata": {},
   "outputs": [
    {
     "data": {
      "text/html": [
       "<div>\n",
       "<style scoped>\n",
       "    .dataframe tbody tr th:only-of-type {\n",
       "        vertical-align: middle;\n",
       "    }\n",
       "\n",
       "    .dataframe tbody tr th {\n",
       "        vertical-align: top;\n",
       "    }\n",
       "\n",
       "    .dataframe thead th {\n",
       "        text-align: right;\n",
       "    }\n",
       "</style>\n",
       "<table border=\"1\" class=\"dataframe\">\n",
       "  <thead>\n",
       "    <tr style=\"text-align: right;\">\n",
       "      <th></th>\n",
       "      <th>age</th>\n",
       "      <th>job</th>\n",
       "      <th>marital</th>\n",
       "      <th>education</th>\n",
       "      <th>default</th>\n",
       "      <th>balance</th>\n",
       "      <th>housing</th>\n",
       "      <th>loan</th>\n",
       "      <th>contact</th>\n",
       "      <th>day</th>\n",
       "      <th>month</th>\n",
       "      <th>duration</th>\n",
       "      <th>campaign</th>\n",
       "      <th>pdays</th>\n",
       "      <th>previous</th>\n",
       "      <th>poutcome</th>\n",
       "      <th>y</th>\n",
       "    </tr>\n",
       "  </thead>\n",
       "  <tbody>\n",
       "    <tr>\n",
       "      <th>0</th>\n",
       "      <td>58</td>\n",
       "      <td>management</td>\n",
       "      <td>married</td>\n",
       "      <td>tertiary</td>\n",
       "      <td>no</td>\n",
       "      <td>2143</td>\n",
       "      <td>yes</td>\n",
       "      <td>no</td>\n",
       "      <td>unknown</td>\n",
       "      <td>5</td>\n",
       "      <td>may</td>\n",
       "      <td>261</td>\n",
       "      <td>1</td>\n",
       "      <td>-1</td>\n",
       "      <td>0</td>\n",
       "      <td>unknown</td>\n",
       "      <td>no</td>\n",
       "    </tr>\n",
       "    <tr>\n",
       "      <th>1</th>\n",
       "      <td>44</td>\n",
       "      <td>technician</td>\n",
       "      <td>single</td>\n",
       "      <td>secondary</td>\n",
       "      <td>no</td>\n",
       "      <td>29</td>\n",
       "      <td>yes</td>\n",
       "      <td>no</td>\n",
       "      <td>unknown</td>\n",
       "      <td>5</td>\n",
       "      <td>may</td>\n",
       "      <td>151</td>\n",
       "      <td>1</td>\n",
       "      <td>-1</td>\n",
       "      <td>0</td>\n",
       "      <td>unknown</td>\n",
       "      <td>no</td>\n",
       "    </tr>\n",
       "    <tr>\n",
       "      <th>2</th>\n",
       "      <td>33</td>\n",
       "      <td>entrepreneur</td>\n",
       "      <td>married</td>\n",
       "      <td>secondary</td>\n",
       "      <td>no</td>\n",
       "      <td>2</td>\n",
       "      <td>yes</td>\n",
       "      <td>yes</td>\n",
       "      <td>unknown</td>\n",
       "      <td>5</td>\n",
       "      <td>may</td>\n",
       "      <td>76</td>\n",
       "      <td>1</td>\n",
       "      <td>-1</td>\n",
       "      <td>0</td>\n",
       "      <td>unknown</td>\n",
       "      <td>no</td>\n",
       "    </tr>\n",
       "    <tr>\n",
       "      <th>3</th>\n",
       "      <td>47</td>\n",
       "      <td>blue-collar</td>\n",
       "      <td>married</td>\n",
       "      <td>unknown</td>\n",
       "      <td>no</td>\n",
       "      <td>1506</td>\n",
       "      <td>yes</td>\n",
       "      <td>no</td>\n",
       "      <td>unknown</td>\n",
       "      <td>5</td>\n",
       "      <td>may</td>\n",
       "      <td>92</td>\n",
       "      <td>1</td>\n",
       "      <td>-1</td>\n",
       "      <td>0</td>\n",
       "      <td>unknown</td>\n",
       "      <td>no</td>\n",
       "    </tr>\n",
       "    <tr>\n",
       "      <th>4</th>\n",
       "      <td>33</td>\n",
       "      <td>unknown</td>\n",
       "      <td>single</td>\n",
       "      <td>unknown</td>\n",
       "      <td>no</td>\n",
       "      <td>1</td>\n",
       "      <td>no</td>\n",
       "      <td>no</td>\n",
       "      <td>unknown</td>\n",
       "      <td>5</td>\n",
       "      <td>may</td>\n",
       "      <td>198</td>\n",
       "      <td>1</td>\n",
       "      <td>-1</td>\n",
       "      <td>0</td>\n",
       "      <td>unknown</td>\n",
       "      <td>no</td>\n",
       "    </tr>\n",
       "  </tbody>\n",
       "</table>\n",
       "</div>"
      ],
      "text/plain": [
       "   age           job  marital  education default  balance housing loan  \\\n",
       "0   58    management  married   tertiary      no     2143     yes   no   \n",
       "1   44    technician   single  secondary      no       29     yes   no   \n",
       "2   33  entrepreneur  married  secondary      no        2     yes  yes   \n",
       "3   47   blue-collar  married    unknown      no     1506     yes   no   \n",
       "4   33       unknown   single    unknown      no        1      no   no   \n",
       "\n",
       "   contact  day month  duration  campaign  pdays  previous poutcome   y  \n",
       "0  unknown    5   may       261         1     -1         0  unknown  no  \n",
       "1  unknown    5   may       151         1     -1         0  unknown  no  \n",
       "2  unknown    5   may        76         1     -1         0  unknown  no  \n",
       "3  unknown    5   may        92         1     -1         0  unknown  no  \n",
       "4  unknown    5   may       198         1     -1         0  unknown  no  "
      ]
     },
     "execution_count": 4,
     "metadata": {},
     "output_type": "execute_result"
    }
   ],
   "source": [
    "df.head()"
   ]
  },
  {
   "cell_type": "code",
   "execution_count": 5,
   "id": "311f7e72",
   "metadata": {},
   "outputs": [
    {
     "name": "stdout",
     "output_type": "stream",
     "text": [
      "<class 'pandas.core.frame.DataFrame'>\n",
      "RangeIndex: 45211 entries, 0 to 45210\n",
      "Data columns (total 17 columns):\n",
      " #   Column     Non-Null Count  Dtype \n",
      "---  ------     --------------  ----- \n",
      " 0   age        45211 non-null  int64 \n",
      " 1   job        45211 non-null  object\n",
      " 2   marital    45211 non-null  object\n",
      " 3   education  45211 non-null  object\n",
      " 4   default    45211 non-null  object\n",
      " 5   balance    45211 non-null  int64 \n",
      " 6   housing    45211 non-null  object\n",
      " 7   loan       45211 non-null  object\n",
      " 8   contact    45211 non-null  object\n",
      " 9   day        45211 non-null  int64 \n",
      " 10  month      45211 non-null  object\n",
      " 11  duration   45211 non-null  int64 \n",
      " 12  campaign   45211 non-null  int64 \n",
      " 13  pdays      45211 non-null  int64 \n",
      " 14  previous   45211 non-null  int64 \n",
      " 15  poutcome   45211 non-null  object\n",
      " 16  y          45211 non-null  object\n",
      "dtypes: int64(7), object(10)\n",
      "memory usage: 5.9+ MB\n"
     ]
    }
   ],
   "source": [
    "df.info()"
   ]
  },
  {
   "cell_type": "code",
   "execution_count": 6,
   "id": "3d0c9e31",
   "metadata": {},
   "outputs": [
    {
     "data": {
      "text/html": [
       "<div>\n",
       "<style scoped>\n",
       "    .dataframe tbody tr th:only-of-type {\n",
       "        vertical-align: middle;\n",
       "    }\n",
       "\n",
       "    .dataframe tbody tr th {\n",
       "        vertical-align: top;\n",
       "    }\n",
       "\n",
       "    .dataframe thead th {\n",
       "        text-align: right;\n",
       "    }\n",
       "</style>\n",
       "<table border=\"1\" class=\"dataframe\">\n",
       "  <thead>\n",
       "    <tr style=\"text-align: right;\">\n",
       "      <th></th>\n",
       "      <th>age</th>\n",
       "      <th>balance</th>\n",
       "      <th>day</th>\n",
       "      <th>duration</th>\n",
       "      <th>campaign</th>\n",
       "      <th>pdays</th>\n",
       "      <th>previous</th>\n",
       "    </tr>\n",
       "  </thead>\n",
       "  <tbody>\n",
       "    <tr>\n",
       "      <th>count</th>\n",
       "      <td>45211.000000</td>\n",
       "      <td>45211.000000</td>\n",
       "      <td>45211.000000</td>\n",
       "      <td>45211.000000</td>\n",
       "      <td>45211.000000</td>\n",
       "      <td>45211.000000</td>\n",
       "      <td>45211.000000</td>\n",
       "    </tr>\n",
       "    <tr>\n",
       "      <th>mean</th>\n",
       "      <td>40.936210</td>\n",
       "      <td>1362.272058</td>\n",
       "      <td>15.806419</td>\n",
       "      <td>258.163080</td>\n",
       "      <td>2.763841</td>\n",
       "      <td>40.197828</td>\n",
       "      <td>0.580323</td>\n",
       "    </tr>\n",
       "    <tr>\n",
       "      <th>std</th>\n",
       "      <td>10.618762</td>\n",
       "      <td>3044.765829</td>\n",
       "      <td>8.322476</td>\n",
       "      <td>257.527812</td>\n",
       "      <td>3.098021</td>\n",
       "      <td>100.128746</td>\n",
       "      <td>2.303441</td>\n",
       "    </tr>\n",
       "    <tr>\n",
       "      <th>min</th>\n",
       "      <td>18.000000</td>\n",
       "      <td>-8019.000000</td>\n",
       "      <td>1.000000</td>\n",
       "      <td>0.000000</td>\n",
       "      <td>1.000000</td>\n",
       "      <td>-1.000000</td>\n",
       "      <td>0.000000</td>\n",
       "    </tr>\n",
       "    <tr>\n",
       "      <th>25%</th>\n",
       "      <td>33.000000</td>\n",
       "      <td>72.000000</td>\n",
       "      <td>8.000000</td>\n",
       "      <td>103.000000</td>\n",
       "      <td>1.000000</td>\n",
       "      <td>-1.000000</td>\n",
       "      <td>0.000000</td>\n",
       "    </tr>\n",
       "    <tr>\n",
       "      <th>50%</th>\n",
       "      <td>39.000000</td>\n",
       "      <td>448.000000</td>\n",
       "      <td>16.000000</td>\n",
       "      <td>180.000000</td>\n",
       "      <td>2.000000</td>\n",
       "      <td>-1.000000</td>\n",
       "      <td>0.000000</td>\n",
       "    </tr>\n",
       "    <tr>\n",
       "      <th>75%</th>\n",
       "      <td>48.000000</td>\n",
       "      <td>1428.000000</td>\n",
       "      <td>21.000000</td>\n",
       "      <td>319.000000</td>\n",
       "      <td>3.000000</td>\n",
       "      <td>-1.000000</td>\n",
       "      <td>0.000000</td>\n",
       "    </tr>\n",
       "    <tr>\n",
       "      <th>max</th>\n",
       "      <td>95.000000</td>\n",
       "      <td>102127.000000</td>\n",
       "      <td>31.000000</td>\n",
       "      <td>4918.000000</td>\n",
       "      <td>63.000000</td>\n",
       "      <td>871.000000</td>\n",
       "      <td>275.000000</td>\n",
       "    </tr>\n",
       "  </tbody>\n",
       "</table>\n",
       "</div>"
      ],
      "text/plain": [
       "                age        balance           day      duration      campaign  \\\n",
       "count  45211.000000   45211.000000  45211.000000  45211.000000  45211.000000   \n",
       "mean      40.936210    1362.272058     15.806419    258.163080      2.763841   \n",
       "std       10.618762    3044.765829      8.322476    257.527812      3.098021   \n",
       "min       18.000000   -8019.000000      1.000000      0.000000      1.000000   \n",
       "25%       33.000000      72.000000      8.000000    103.000000      1.000000   \n",
       "50%       39.000000     448.000000     16.000000    180.000000      2.000000   \n",
       "75%       48.000000    1428.000000     21.000000    319.000000      3.000000   \n",
       "max       95.000000  102127.000000     31.000000   4918.000000     63.000000   \n",
       "\n",
       "              pdays      previous  \n",
       "count  45211.000000  45211.000000  \n",
       "mean      40.197828      0.580323  \n",
       "std      100.128746      2.303441  \n",
       "min       -1.000000      0.000000  \n",
       "25%       -1.000000      0.000000  \n",
       "50%       -1.000000      0.000000  \n",
       "75%       -1.000000      0.000000  \n",
       "max      871.000000    275.000000  "
      ]
     },
     "execution_count": 6,
     "metadata": {},
     "output_type": "execute_result"
    }
   ],
   "source": [
    "df.describe()"
   ]
  },
  {
   "cell_type": "code",
   "execution_count": 69,
   "id": "48a4c36a",
   "metadata": {},
   "outputs": [
    {
     "data": {
      "text/plain": [
       "no     88.30152\n",
       "yes    11.69848\n",
       "Name: y, dtype: float64"
      ]
     },
     "execution_count": 69,
     "metadata": {},
     "output_type": "execute_result"
    }
   ],
   "source": [
    "df.y.value_counts(normalize=True)*100"
   ]
  },
  {
   "cell_type": "code",
   "execution_count": 7,
   "id": "9c881cf5",
   "metadata": {},
   "outputs": [],
   "source": [
    "cat_cols = df.select_dtypes(include='object').columns.to_list()"
   ]
  },
  {
   "cell_type": "code",
   "execution_count": 8,
   "id": "c209a7c7",
   "metadata": {},
   "outputs": [
    {
     "name": "stdout",
     "output_type": "stream",
     "text": [
      "Column: job\n",
      "blue-collar      9732\n",
      "management       9458\n",
      "technician       7597\n",
      "admin.           5171\n",
      "services         4154\n",
      "retired          2264\n",
      "self-employed    1579\n",
      "entrepreneur     1487\n",
      "unemployed       1303\n",
      "housemaid        1240\n",
      "student           938\n",
      "unknown           288\n",
      "Name: job, dtype: int64\n",
      "\n",
      "\n",
      "\n",
      "Column: marital\n",
      "married     27214\n",
      "single      12790\n",
      "divorced     5207\n",
      "Name: marital, dtype: int64\n",
      "\n",
      "\n",
      "\n",
      "Column: education\n",
      "secondary    23202\n",
      "tertiary     13301\n",
      "primary       6851\n",
      "unknown       1857\n",
      "Name: education, dtype: int64\n",
      "\n",
      "\n",
      "\n",
      "Column: default\n",
      "no     44396\n",
      "yes      815\n",
      "Name: default, dtype: int64\n",
      "\n",
      "\n",
      "\n",
      "Column: housing\n",
      "yes    25130\n",
      "no     20081\n",
      "Name: housing, dtype: int64\n",
      "\n",
      "\n",
      "\n",
      "Column: loan\n",
      "no     37967\n",
      "yes     7244\n",
      "Name: loan, dtype: int64\n",
      "\n",
      "\n",
      "\n",
      "Column: contact\n",
      "cellular     29285\n",
      "unknown      13020\n",
      "telephone     2906\n",
      "Name: contact, dtype: int64\n",
      "\n",
      "\n",
      "\n",
      "Column: month\n",
      "may    13766\n",
      "jul     6895\n",
      "aug     6247\n",
      "jun     5341\n",
      "nov     3970\n",
      "apr     2932\n",
      "feb     2649\n",
      "jan     1403\n",
      "oct      738\n",
      "sep      579\n",
      "mar      477\n",
      "dec      214\n",
      "Name: month, dtype: int64\n",
      "\n",
      "\n",
      "\n",
      "Column: poutcome\n",
      "unknown    36959\n",
      "failure     4901\n",
      "other       1840\n",
      "success     1511\n",
      "Name: poutcome, dtype: int64\n",
      "\n",
      "\n",
      "\n",
      "Column: y\n",
      "no     39922\n",
      "yes     5289\n",
      "Name: y, dtype: int64\n",
      "\n",
      "\n",
      "\n"
     ]
    }
   ],
   "source": [
    "for col in cat_cols:\n",
    "    print('Column: %s' % col)\n",
    "    print(df[col].value_counts())\n",
    "    print('\\n\\n')"
   ]
  },
  {
   "cell_type": "code",
   "execution_count": 9,
   "id": "835987a4",
   "metadata": {},
   "outputs": [
    {
     "data": {
      "text/plain": [
       "array(['management', 'technician', 'entrepreneur', 'blue-collar',\n",
       "       'unknown', 'retired', 'admin.', 'services', 'self-employed',\n",
       "       'unemployed', 'housemaid', 'student'], dtype=object)"
      ]
     },
     "execution_count": 9,
     "metadata": {},
     "output_type": "execute_result"
    }
   ],
   "source": [
    "df.job.unique()"
   ]
  },
  {
   "cell_type": "code",
   "execution_count": 10,
   "id": "9c8ef668",
   "metadata": {},
   "outputs": [],
   "source": [
    "## Combining various job categories to few.\n",
    "df['job'] = df['job'].replace({'admin.':'management','self-employed':'entrepreneur',\\\n",
    "                                  'blue-collar':'services','housemaid':'services',\\\n",
    "                                  'technician':'services','retired':'unemployed',\\\n",
    "                                  'student':'unemployed','unknown':'unemployed'})"
   ]
  },
  {
   "cell_type": "code",
   "execution_count": 11,
   "id": "7717e3b5",
   "metadata": {},
   "outputs": [
    {
     "data": {
      "text/plain": [
       "services        22723\n",
       "management      14629\n",
       "unemployed       4793\n",
       "entrepreneur     3066\n",
       "Name: job, dtype: int64"
      ]
     },
     "execution_count": 11,
     "metadata": {},
     "output_type": "execute_result"
    }
   ],
   "source": [
    "df.job.value_counts()"
   ]
  },
  {
   "cell_type": "code",
   "execution_count": 12,
   "id": "e5838b0e",
   "metadata": {},
   "outputs": [],
   "source": [
    "df['poutcome'] = df['poutcome'].replace('unknown','other')"
   ]
  },
  {
   "cell_type": "code",
   "execution_count": 13,
   "id": "b60478cc",
   "metadata": {},
   "outputs": [
    {
     "data": {
      "text/plain": [
       "other      38799\n",
       "failure     4901\n",
       "success     1511\n",
       "Name: poutcome, dtype: int64"
      ]
     },
     "execution_count": 13,
     "metadata": {},
     "output_type": "execute_result"
    }
   ],
   "source": [
    "df.poutcome.value_counts()"
   ]
  },
  {
   "cell_type": "code",
   "execution_count": 14,
   "id": "badc67a9",
   "metadata": {},
   "outputs": [
    {
     "data": {
      "text/plain": [
       "[-1,\n",
       " 1,\n",
       " 2,\n",
       " 3,\n",
       " 4,\n",
       " 5,\n",
       " 6,\n",
       " 7,\n",
       " 8,\n",
       " 9,\n",
       " 10,\n",
       " 12,\n",
       " 13,\n",
       " 14,\n",
       " 15,\n",
       " 17,\n",
       " 18,\n",
       " 19,\n",
       " 20,\n",
       " 21,\n",
       " 22,\n",
       " 24,\n",
       " 25,\n",
       " 26,\n",
       " 27,\n",
       " 28,\n",
       " 29,\n",
       " 30,\n",
       " 31,\n",
       " 32,\n",
       " 33,\n",
       " 34,\n",
       " 35,\n",
       " 36,\n",
       " 37,\n",
       " 38,\n",
       " 39,\n",
       " 40,\n",
       " 41,\n",
       " 42,\n",
       " 43,\n",
       " 44,\n",
       " 45,\n",
       " 46,\n",
       " 47,\n",
       " 48,\n",
       " 49,\n",
       " 50,\n",
       " 51,\n",
       " 52,\n",
       " 53,\n",
       " 54,\n",
       " 55,\n",
       " 56,\n",
       " 57,\n",
       " 58,\n",
       " 59,\n",
       " 60,\n",
       " 61,\n",
       " 62,\n",
       " 63,\n",
       " 64,\n",
       " 65,\n",
       " 66,\n",
       " 67,\n",
       " 68,\n",
       " 69,\n",
       " 70,\n",
       " 71,\n",
       " 72,\n",
       " 73,\n",
       " 74,\n",
       " 75,\n",
       " 76,\n",
       " 77,\n",
       " 78,\n",
       " 79,\n",
       " 80,\n",
       " 81,\n",
       " 82,\n",
       " 83,\n",
       " 84,\n",
       " 85,\n",
       " 86,\n",
       " 87,\n",
       " 88,\n",
       " 89,\n",
       " 90,\n",
       " 91,\n",
       " 92,\n",
       " 93,\n",
       " 94,\n",
       " 95,\n",
       " 96,\n",
       " 97,\n",
       " 98,\n",
       " 99,\n",
       " 100,\n",
       " 101,\n",
       " 102,\n",
       " 103,\n",
       " 104,\n",
       " 105,\n",
       " 106,\n",
       " 107,\n",
       " 108,\n",
       " 109,\n",
       " 110,\n",
       " 111,\n",
       " 112,\n",
       " 113,\n",
       " 114,\n",
       " 115,\n",
       " 116,\n",
       " 117,\n",
       " 118,\n",
       " 119,\n",
       " 120,\n",
       " 121,\n",
       " 122,\n",
       " 123,\n",
       " 124,\n",
       " 125,\n",
       " 126,\n",
       " 127,\n",
       " 128,\n",
       " 129,\n",
       " 130,\n",
       " 131,\n",
       " 132,\n",
       " 133,\n",
       " 134,\n",
       " 135,\n",
       " 136,\n",
       " 137,\n",
       " 138,\n",
       " 139,\n",
       " 140,\n",
       " 141,\n",
       " 142,\n",
       " 143,\n",
       " 144,\n",
       " 145,\n",
       " 146,\n",
       " 147,\n",
       " 148,\n",
       " 149,\n",
       " 150,\n",
       " 151,\n",
       " 152,\n",
       " 153,\n",
       " 154,\n",
       " 155,\n",
       " 156,\n",
       " 157,\n",
       " 158,\n",
       " 159,\n",
       " 160,\n",
       " 161,\n",
       " 162,\n",
       " 163,\n",
       " 164,\n",
       " 165,\n",
       " 166,\n",
       " 167,\n",
       " 168,\n",
       " 169,\n",
       " 170,\n",
       " 171,\n",
       " 172,\n",
       " 173,\n",
       " 174,\n",
       " 175,\n",
       " 176,\n",
       " 177,\n",
       " 178,\n",
       " 179,\n",
       " 180,\n",
       " 181,\n",
       " 182,\n",
       " 183,\n",
       " 184,\n",
       " 185,\n",
       " 186,\n",
       " 187,\n",
       " 188,\n",
       " 189,\n",
       " 190,\n",
       " 191,\n",
       " 192,\n",
       " 193,\n",
       " 194,\n",
       " 195,\n",
       " 196,\n",
       " 197,\n",
       " 198,\n",
       " 199,\n",
       " 200,\n",
       " 201,\n",
       " 202,\n",
       " 203,\n",
       " 204,\n",
       " 205,\n",
       " 206,\n",
       " 207,\n",
       " 208,\n",
       " 209,\n",
       " 210,\n",
       " 211,\n",
       " 212,\n",
       " 213,\n",
       " 214,\n",
       " 215,\n",
       " 216,\n",
       " 217,\n",
       " 218,\n",
       " 219,\n",
       " 220,\n",
       " 221,\n",
       " 222,\n",
       " 223,\n",
       " 224,\n",
       " 225,\n",
       " 226,\n",
       " 227,\n",
       " 228,\n",
       " 229,\n",
       " 230,\n",
       " 231,\n",
       " 232,\n",
       " 233,\n",
       " 234,\n",
       " 235,\n",
       " 236,\n",
       " 237,\n",
       " 238,\n",
       " 239,\n",
       " 240,\n",
       " 241,\n",
       " 242,\n",
       " 243,\n",
       " 244,\n",
       " 245,\n",
       " 246,\n",
       " 247,\n",
       " 248,\n",
       " 249,\n",
       " 250,\n",
       " 251,\n",
       " 252,\n",
       " 253,\n",
       " 254,\n",
       " 255,\n",
       " 256,\n",
       " 257,\n",
       " 258,\n",
       " 259,\n",
       " 260,\n",
       " 261,\n",
       " 262,\n",
       " 263,\n",
       " 264,\n",
       " 265,\n",
       " 266,\n",
       " 267,\n",
       " 268,\n",
       " 269,\n",
       " 270,\n",
       " 271,\n",
       " 272,\n",
       " 273,\n",
       " 274,\n",
       " 275,\n",
       " 276,\n",
       " 277,\n",
       " 278,\n",
       " 279,\n",
       " 280,\n",
       " 281,\n",
       " 282,\n",
       " 283,\n",
       " 284,\n",
       " 285,\n",
       " 286,\n",
       " 287,\n",
       " 288,\n",
       " 289,\n",
       " 290,\n",
       " 291,\n",
       " 292,\n",
       " 293,\n",
       " 294,\n",
       " 295,\n",
       " 296,\n",
       " 297,\n",
       " 298,\n",
       " 299,\n",
       " 300,\n",
       " 301,\n",
       " 302,\n",
       " 303,\n",
       " 304,\n",
       " 305,\n",
       " 306,\n",
       " 307,\n",
       " 308,\n",
       " 309,\n",
       " 310,\n",
       " 311,\n",
       " 312,\n",
       " 313,\n",
       " 314,\n",
       " 315,\n",
       " 316,\n",
       " 317,\n",
       " 318,\n",
       " 319,\n",
       " 320,\n",
       " 321,\n",
       " 322,\n",
       " 323,\n",
       " 324,\n",
       " 325,\n",
       " 326,\n",
       " 327,\n",
       " 328,\n",
       " 329,\n",
       " 330,\n",
       " 331,\n",
       " 332,\n",
       " 333,\n",
       " 334,\n",
       " 335,\n",
       " 336,\n",
       " 337,\n",
       " 338,\n",
       " 339,\n",
       " 340,\n",
       " 341,\n",
       " 342,\n",
       " 343,\n",
       " 344,\n",
       " 345,\n",
       " 346,\n",
       " 347,\n",
       " 348,\n",
       " 349,\n",
       " 350,\n",
       " 351,\n",
       " 352,\n",
       " 353,\n",
       " 354,\n",
       " 355,\n",
       " 356,\n",
       " 357,\n",
       " 358,\n",
       " 359,\n",
       " 360,\n",
       " 361,\n",
       " 362,\n",
       " 363,\n",
       " 364,\n",
       " 365,\n",
       " 366,\n",
       " 367,\n",
       " 368,\n",
       " 369,\n",
       " 370,\n",
       " 371,\n",
       " 372,\n",
       " 373,\n",
       " 374,\n",
       " 375,\n",
       " 376,\n",
       " 377,\n",
       " 378,\n",
       " 379,\n",
       " 380,\n",
       " 381,\n",
       " 382,\n",
       " 383,\n",
       " 384,\n",
       " 385,\n",
       " 386,\n",
       " 387,\n",
       " 388,\n",
       " 389,\n",
       " 390,\n",
       " 391,\n",
       " 392,\n",
       " 393,\n",
       " 394,\n",
       " 395,\n",
       " 396,\n",
       " 397,\n",
       " 398,\n",
       " 399,\n",
       " 401,\n",
       " 403,\n",
       " 404,\n",
       " 405,\n",
       " 407,\n",
       " 409,\n",
       " 410,\n",
       " 411,\n",
       " 412,\n",
       " 413,\n",
       " 414,\n",
       " 415,\n",
       " 416,\n",
       " 417,\n",
       " 419,\n",
       " 420,\n",
       " 421,\n",
       " 422,\n",
       " 424,\n",
       " 425,\n",
       " 426,\n",
       " 427,\n",
       " 428,\n",
       " 430,\n",
       " 431,\n",
       " 432,\n",
       " 433,\n",
       " 434,\n",
       " 435,\n",
       " 436,\n",
       " 437,\n",
       " 439,\n",
       " 440,\n",
       " 442,\n",
       " 444,\n",
       " 445,\n",
       " 446,\n",
       " 449,\n",
       " 450,\n",
       " 452,\n",
       " 454,\n",
       " 455,\n",
       " 456,\n",
       " 457,\n",
       " 458,\n",
       " 459,\n",
       " 460,\n",
       " 461,\n",
       " 462,\n",
       " 463,\n",
       " 464,\n",
       " 465,\n",
       " 466,\n",
       " 467,\n",
       " 469,\n",
       " 470,\n",
       " 472,\n",
       " 474,\n",
       " 475,\n",
       " 476,\n",
       " 477,\n",
       " 478,\n",
       " 479,\n",
       " 480,\n",
       " 481,\n",
       " 484,\n",
       " 485,\n",
       " 486,\n",
       " 489,\n",
       " 490,\n",
       " 491,\n",
       " 492,\n",
       " 493,\n",
       " 495,\n",
       " 500,\n",
       " 503,\n",
       " 504,\n",
       " 508,\n",
       " 511,\n",
       " 514,\n",
       " 515,\n",
       " 518,\n",
       " 520,\n",
       " 521,\n",
       " 524,\n",
       " 526,\n",
       " 528,\n",
       " 529,\n",
       " 530,\n",
       " 531,\n",
       " 532,\n",
       " 535,\n",
       " 536,\n",
       " 541,\n",
       " 542,\n",
       " 543,\n",
       " 544,\n",
       " 547,\n",
       " 550,\n",
       " 551,\n",
       " 553,\n",
       " 555,\n",
       " 557,\n",
       " 558,\n",
       " 561,\n",
       " 562,\n",
       " 578,\n",
       " 579,\n",
       " 585,\n",
       " 586,\n",
       " 587,\n",
       " 589,\n",
       " 592,\n",
       " 594,\n",
       " 595,\n",
       " 603,\n",
       " 616,\n",
       " 626,\n",
       " 633,\n",
       " 648,\n",
       " 651,\n",
       " 655,\n",
       " 656,\n",
       " 667,\n",
       " 670,\n",
       " 674,\n",
       " 680,\n",
       " 683,\n",
       " 686,\n",
       " 687,\n",
       " 690,\n",
       " 701,\n",
       " 717,\n",
       " 728,\n",
       " 745,\n",
       " 749,\n",
       " 756,\n",
       " 760,\n",
       " 761,\n",
       " 769,\n",
       " 771,\n",
       " 772,\n",
       " 774,\n",
       " 775,\n",
       " 776,\n",
       " 778,\n",
       " 779,\n",
       " 782,\n",
       " 784,\n",
       " 791,\n",
       " 792,\n",
       " 804,\n",
       " 805,\n",
       " 808,\n",
       " 826,\n",
       " 828,\n",
       " 831,\n",
       " 838,\n",
       " 842,\n",
       " 850,\n",
       " 854,\n",
       " 871]"
      ]
     },
     "execution_count": 14,
     "metadata": {},
     "output_type": "execute_result"
    }
   ],
   "source": [
    "sorted(df.pdays.unique())"
   ]
  },
  {
   "cell_type": "code",
   "execution_count": 15,
   "id": "308967d2",
   "metadata": {},
   "outputs": [],
   "source": [
    "p_days = df.pdays.value_counts()"
   ]
  },
  {
   "cell_type": "code",
   "execution_count": 16,
   "id": "538c2405",
   "metadata": {},
   "outputs": [
    {
     "data": {
      "text/plain": [
       "-1      36954\n",
       " 182      167\n",
       " 92       147\n",
       " 91       126\n",
       " 183      126\n",
       "        ...  \n",
       " 449        1\n",
       " 452        1\n",
       " 648        1\n",
       " 595        1\n",
       " 530        1\n",
       "Name: pdays, Length: 559, dtype: int64"
      ]
     },
     "execution_count": 16,
     "metadata": {},
     "output_type": "execute_result"
    }
   ],
   "source": [
    "p_days"
   ]
  },
  {
   "cell_type": "code",
   "execution_count": 17,
   "id": "5d340d5c",
   "metadata": {},
   "outputs": [
    {
     "data": {
      "text/plain": [
       "age          5059\n",
       "job          5059\n",
       "marital      5059\n",
       "education    5059\n",
       "default      5059\n",
       "balance      5059\n",
       "housing      5059\n",
       "loan         5059\n",
       "contact      5059\n",
       "day          5059\n",
       "month        5059\n",
       "duration     5059\n",
       "campaign     5059\n",
       "pdays        5059\n",
       "previous     5059\n",
       "poutcome     5059\n",
       "y            5059\n",
       "dtype: int64"
      ]
     },
     "execution_count": 17,
     "metadata": {},
     "output_type": "execute_result"
    }
   ],
   "source": [
    "df[df.pdays >= 181].count()"
   ]
  },
  {
   "cell_type": "code",
   "execution_count": 18,
   "id": "0b00b6e7",
   "metadata": {},
   "outputs": [],
   "source": [
    "df['p_contact'] = pd.cut(df.pdays, bins=[-2,0, 30, 180, 872], labels=['no_contact','recent','inter','long'])"
   ]
  },
  {
   "cell_type": "code",
   "execution_count": 19,
   "id": "eaaf1c2b",
   "metadata": {},
   "outputs": [
    {
     "data": {
      "text/plain": [
       "no_contact    36954\n",
       "long           5059\n",
       "inter          3010\n",
       "recent          188\n",
       "Name: p_contact, dtype: int64"
      ]
     },
     "execution_count": 19,
     "metadata": {},
     "output_type": "execute_result"
    }
   ],
   "source": [
    "df.p_contact.value_counts()"
   ]
  },
  {
   "cell_type": "code",
   "execution_count": 20,
   "id": "f94c5f51",
   "metadata": {},
   "outputs": [
    {
     "data": {
      "text/plain": [
       "(18, 95)"
      ]
     },
     "execution_count": 20,
     "metadata": {},
     "output_type": "execute_result"
    }
   ],
   "source": [
    "df.age.min(), df.age.max()"
   ]
  },
  {
   "cell_type": "code",
   "execution_count": 21,
   "id": "fea54615",
   "metadata": {},
   "outputs": [],
   "source": [
    "df['agecat'] = pd.cut(df.age, bins=[17,30,45,60,96], labels=['young','middle','uppermiddle','old'])"
   ]
  },
  {
   "cell_type": "code",
   "execution_count": 22,
   "id": "b5112cd5",
   "metadata": {},
   "outputs": [
    {
     "data": {
      "text/plain": [
       "middle         23733\n",
       "uppermiddle    13260\n",
       "young           7030\n",
       "old             1188\n",
       "Name: agecat, dtype: int64"
      ]
     },
     "execution_count": 22,
     "metadata": {},
     "output_type": "execute_result"
    }
   ],
   "source": [
    "df.agecat.value_counts()"
   ]
  },
  {
   "cell_type": "code",
   "execution_count": 23,
   "id": "21db30cf",
   "metadata": {},
   "outputs": [],
   "source": [
    "df['marital'] = df['marital'].replace('divorced','single')"
   ]
  },
  {
   "cell_type": "code",
   "execution_count": 24,
   "id": "8cb33c3f",
   "metadata": {},
   "outputs": [
    {
     "data": {
      "text/plain": [
       "married    27214\n",
       "single     17997\n",
       "Name: marital, dtype: int64"
      ]
     },
     "execution_count": 24,
     "metadata": {},
     "output_type": "execute_result"
    }
   ],
   "source": [
    "df.marital.value_counts()"
   ]
  },
  {
   "cell_type": "code",
   "execution_count": 25,
   "id": "3208ca45",
   "metadata": {},
   "outputs": [
    {
     "data": {
      "text/html": [
       "<div>\n",
       "<style scoped>\n",
       "    .dataframe tbody tr th:only-of-type {\n",
       "        vertical-align: middle;\n",
       "    }\n",
       "\n",
       "    .dataframe tbody tr th {\n",
       "        vertical-align: top;\n",
       "    }\n",
       "\n",
       "    .dataframe thead th {\n",
       "        text-align: right;\n",
       "    }\n",
       "</style>\n",
       "<table border=\"1\" class=\"dataframe\">\n",
       "  <thead>\n",
       "    <tr style=\"text-align: right;\">\n",
       "      <th>y</th>\n",
       "      <th>no</th>\n",
       "      <th>yes</th>\n",
       "    </tr>\n",
       "    <tr>\n",
       "      <th>education</th>\n",
       "      <th></th>\n",
       "      <th></th>\n",
       "    </tr>\n",
       "  </thead>\n",
       "  <tbody>\n",
       "    <tr>\n",
       "      <th>primary</th>\n",
       "      <td>6260</td>\n",
       "      <td>591</td>\n",
       "    </tr>\n",
       "    <tr>\n",
       "      <th>secondary</th>\n",
       "      <td>20752</td>\n",
       "      <td>2450</td>\n",
       "    </tr>\n",
       "    <tr>\n",
       "      <th>tertiary</th>\n",
       "      <td>11305</td>\n",
       "      <td>1996</td>\n",
       "    </tr>\n",
       "    <tr>\n",
       "      <th>unknown</th>\n",
       "      <td>1605</td>\n",
       "      <td>252</td>\n",
       "    </tr>\n",
       "  </tbody>\n",
       "</table>\n",
       "</div>"
      ],
      "text/plain": [
       "y             no   yes\n",
       "education             \n",
       "primary     6260   591\n",
       "secondary  20752  2450\n",
       "tertiary   11305  1996\n",
       "unknown     1605   252"
      ]
     },
     "execution_count": 25,
     "metadata": {},
     "output_type": "execute_result"
    }
   ],
   "source": [
    "pd.crosstab(df.education, df.y)"
   ]
  },
  {
   "cell_type": "code",
   "execution_count": 26,
   "id": "56f29abd",
   "metadata": {},
   "outputs": [
    {
     "data": {
      "image/png": "[encoded data removed]",
      "text/plain": [
       "<Figure size 640x480 with 1 Axes>"
      ]
     },
     "metadata": {},
     "output_type": "display_data"
    }
   ],
   "source": [
    "pd.crosstab(df.marital, df.y).plot(kind='bar')\n",
    "plt.show()"
   ]
  },
  {
   "cell_type": "code",
   "execution_count": 27,
   "id": "d3040c98",
   "metadata": {},
   "outputs": [
    {
     "data": {
      "image/png": "[encoded data removed]",
      "text/plain": [
       "<Figure size 640x480 with 1 Axes>"
      ]
     },
     "metadata": {},
     "output_type": "display_data"
    }
   ],
   "source": [
    "sns.countplot(x='marital', hue='y', data=df)\n",
    "plt.show()"
   ]
  },
  {
   "cell_type": "code",
   "execution_count": 28,
   "id": "a8e6f6df",
   "metadata": {},
   "outputs": [
    {
     "data": {
      "text/plain": [
       "count    45211.000000\n",
       "mean       258.163080\n",
       "std        257.527812\n",
       "min          0.000000\n",
       "25%        103.000000\n",
       "50%        180.000000\n",
       "75%        319.000000\n",
       "max       4918.000000\n",
       "Name: duration, dtype: float64"
      ]
     },
     "execution_count": 28,
     "metadata": {},
     "output_type": "execute_result"
    }
   ],
   "source": [
    "df.duration.describe()"
   ]
  },
  {
   "cell_type": "code",
   "execution_count": 29,
   "id": "6b85cbb7",
   "metadata": {},
   "outputs": [],
   "source": [
    "df['call_types'] = pd.cut(df.duration, bins=[-1,120,320,5000], labels=['short','medium','long'])"
   ]
  },
  {
   "cell_type": "code",
   "execution_count": 30,
   "id": "c3a037b8",
   "metadata": {},
   "outputs": [
    {
     "data": {
      "image/png": "[encoded data removed]",
      "text/plain": [
       "<Figure size 640x480 with 1 Axes>"
      ]
     },
     "metadata": {},
     "output_type": "display_data"
    }
   ],
   "source": [
    "sns.countplot(x='call_types', hue='y', data=df)\n",
    "plt.show()"
   ]
  },
  {
   "cell_type": "code",
   "execution_count": 31,
   "id": "18a6c6b7",
   "metadata": {},
   "outputs": [
    {
     "data": {
      "text/plain": [
       "count     45211.000000\n",
       "mean       1362.272058\n",
       "std        3044.765829\n",
       "min       -8019.000000\n",
       "25%          72.000000\n",
       "50%         448.000000\n",
       "75%        1428.000000\n",
       "max      102127.000000\n",
       "Name: balance, dtype: float64"
      ]
     },
     "execution_count": 31,
     "metadata": {},
     "output_type": "execute_result"
    }
   ],
   "source": [
    "df.balance.describe()"
   ]
  },
  {
   "cell_type": "code",
   "execution_count": 32,
   "id": "97f61a39",
   "metadata": {},
   "outputs": [
    {
     "data": {
      "text/plain": [
       "((3766, 20), (10895, 20))"
      ]
     },
     "execution_count": 32,
     "metadata": {},
     "output_type": "execute_result"
    }
   ],
   "source": [
    "df[df.balance < 0].shape, df[df.balance > 1500].shape"
   ]
  },
  {
   "cell_type": "code",
   "execution_count": 33,
   "id": "52ffe390",
   "metadata": {},
   "outputs": [],
   "source": [
    "df['balance_cat'] = pd.cut(df.balance, bins=[-9000,100,500,1500,(df.balance.max()+1)], labels=['low','medium','high','very_high'])"
   ]
  },
  {
   "cell_type": "code",
   "execution_count": 34,
   "id": "0248a12b",
   "metadata": {},
   "outputs": [
    {
     "data": {
      "image/png": "[encoded data removed]",
      "text/plain": [
       "<Figure size 640x480 with 1 Axes>"
      ]
     },
     "metadata": {},
     "output_type": "display_data"
    }
   ],
   "source": [
    "sns.countplot(x='balance_cat', hue='y', data=df)\n",
    "plt.show()"
   ]
  },
  {
   "cell_type": "code",
   "execution_count": 35,
   "id": "707cf0c7",
   "metadata": {},
   "outputs": [
    {
     "data": {
      "image/png": "[encoded data removed]",
      "text/plain": [
       "<Figure size 640x480 with 1 Axes>"
      ]
     },
     "metadata": {},
     "output_type": "display_data"
    }
   ],
   "source": [
    "sns.countplot(x='month', hue='y', data=df)\n",
    "plt.show()"
   ]
  },
  {
   "cell_type": "code",
   "execution_count": 36,
   "id": "32a0fadd",
   "metadata": {},
   "outputs": [
    {
     "data": {
      "image/png": "[encoded data removed]",
      "text/plain": [
       "<Figure size 640x480 with 1 Axes>"
      ]
     },
     "metadata": {},
     "output_type": "display_data"
    }
   ],
   "source": [
    "sns.countplot(x='day', hue='y', data=df)\n",
    "plt.xticks(rotation=90)\n",
    "plt.show()"
   ]
  },
  {
   "cell_type": "code",
   "execution_count": 37,
   "id": "d5a4b3e6",
   "metadata": {},
   "outputs": [],
   "source": [
    "## creating total of campaign contacts"
   ]
  },
  {
   "cell_type": "code",
   "execution_count": 38,
   "id": "d125a78a",
   "metadata": {},
   "outputs": [],
   "source": [
    "df['total_contat'] = df['campaign'] + df['previous']"
   ]
  },
  {
   "cell_type": "code",
   "execution_count": 39,
   "id": "f837527f",
   "metadata": {},
   "outputs": [
    {
     "data": {
      "text/plain": [
       "count    45211.000000\n",
       "mean         3.344164\n",
       "std          3.799297\n",
       "min          1.000000\n",
       "25%          1.000000\n",
       "50%          2.000000\n",
       "75%          4.000000\n",
       "max        277.000000\n",
       "Name: total_contat, dtype: float64"
      ]
     },
     "execution_count": 39,
     "metadata": {},
     "output_type": "execute_result"
    }
   ],
   "source": [
    "df.total_contat.describe()"
   ]
  },
  {
   "cell_type": "code",
   "execution_count": 40,
   "id": "99c631f2",
   "metadata": {},
   "outputs": [
    {
     "data": {
      "text/plain": [
       "(2242, 22)"
      ]
     },
     "execution_count": 40,
     "metadata": {},
     "output_type": "execute_result"
    }
   ],
   "source": [
    "df[df.total_contat >=10].shape"
   ]
  },
  {
   "cell_type": "code",
   "execution_count": 41,
   "id": "9f9e06b8",
   "metadata": {},
   "outputs": [],
   "source": [
    "df['contact_cat'] = pd.cut(df.total_contat, bins=[0,2,10,300], labels=['low','medium','high'])"
   ]
  },
  {
   "cell_type": "code",
   "execution_count": 42,
   "id": "ef8a9f44",
   "metadata": {},
   "outputs": [
    {
     "data": {
      "image/png": "[encoded data removed]",
      "text/plain": [
       "<Figure size 640x480 with 1 Axes>"
      ]
     },
     "metadata": {},
     "output_type": "display_data"
    }
   ],
   "source": [
    "sns.countplot(x='contact_cat', hue='y', data=df)\n",
    "plt.xticks(rotation=90)\n",
    "plt.show()"
   ]
  },
  {
   "cell_type": "code",
   "execution_count": 43,
   "id": "ba76a2d1",
   "metadata": {},
   "outputs": [],
   "source": [
    "df['day_cat']= pd.cut(df.day,bins=[0,7,15,21,32],labels=['first','second','third','fourth'])"
   ]
  },
  {
   "cell_type": "code",
   "execution_count": 44,
   "id": "34ab32e1",
   "metadata": {},
   "outputs": [
    {
     "data": {
      "image/png": "[encoded data removed]",
      "text/plain": [
       "<Figure size 640x480 with 1 Axes>"
      ]
     },
     "metadata": {},
     "output_type": "display_data"
    }
   ],
   "source": [
    "sns.countplot(x='day_cat', hue='y', data=df)\n",
    "plt.xticks(rotation=90)\n",
    "plt.show()"
   ]
  },
  {
   "cell_type": "code",
   "execution_count": 45,
   "id": "f05c0633",
   "metadata": {},
   "outputs": [],
   "source": [
    "df['quarters'] = df.month.replace({'jan':'q1','feb':'q1','mar':'q1','apr':'q2','may':'q2',\\\n",
    "                                      'jun':'q2','jul':'q3','aug':'q3','sep':'q3','oct':'q4','nov':'q4','dec':'q4'})"
   ]
  },
  {
   "cell_type": "code",
   "execution_count": 46,
   "id": "758f9689",
   "metadata": {},
   "outputs": [
    {
     "data": {
      "image/png": "[encoded data removed]",
      "text/plain": [
       "<Figure size 640x480 with 1 Axes>"
      ]
     },
     "metadata": {},
     "output_type": "display_data"
    }
   ],
   "source": [
    "sns.countplot(x='quarters', hue='y', data=df)\n",
    "plt.xticks(rotation=90)\n",
    "plt.show()"
   ]
  },
  {
   "cell_type": "code",
   "execution_count": null,
   "id": "18c70fa7",
   "metadata": {},
   "outputs": [],
   "source": []
  },
  {
   "cell_type": "code",
   "execution_count": 98,
   "id": "4618002b",
   "metadata": {},
   "outputs": [],
   "source": [
    "df_new = df.drop(['age','pdays','duration','balance','day','campaign','previous','total_contat','month'], axis=1)"
   ]
  },
  {
   "cell_type": "code",
   "execution_count": 73,
   "id": "f22d8699",
   "metadata": {},
   "outputs": [
    {
     "name": "stdout",
     "output_type": "stream",
     "text": [
      "<class 'pandas.core.frame.DataFrame'>\n",
      "RangeIndex: 45211 entries, 0 to 45210\n",
      "Data columns (total 16 columns):\n",
      " #   Column       Non-Null Count  Dtype   \n",
      "---  ------       --------------  -----   \n",
      " 0   job          45211 non-null  object  \n",
      " 1   marital      45211 non-null  object  \n",
      " 2   education    45211 non-null  object  \n",
      " 3   default      45211 non-null  object  \n",
      " 4   housing      45211 non-null  object  \n",
      " 5   loan         45211 non-null  object  \n",
      " 6   contact      45211 non-null  object  \n",
      " 7   poutcome     45211 non-null  object  \n",
      " 8   y            45211 non-null  object  \n",
      " 9   p_contact    45211 non-null  category\n",
      " 10  agecat       45211 non-null  category\n",
      " 11  call_types   45211 non-null  category\n",
      " 12  balance_cat  45211 non-null  category\n",
      " 13  contact_cat  45211 non-null  category\n",
      " 14  day_cat      45211 non-null  category\n",
      " 15  quarters     45211 non-null  object  \n",
      "dtypes: category(6), object(10)\n",
      "memory usage: 3.7+ MB\n"
     ]
    }
   ],
   "source": [
    "df_new.info()"
   ]
  },
  {
   "cell_type": "markdown",
   "id": "4755c5a1",
   "metadata": {},
   "source": [
    "## Oversampling under sample class"
   ]
  },
  {
   "cell_type": "code",
   "execution_count": 74,
   "id": "2d574839",
   "metadata": {},
   "outputs": [
    {
     "data": {
      "text/plain": [
       "no     39922\n",
       "yes     5289\n",
       "Name: y, dtype: int64"
      ]
     },
     "execution_count": 74,
     "metadata": {},
     "output_type": "execute_result"
    }
   ],
   "source": [
    "df_new.y.value_counts()"
   ]
  },
  {
   "cell_type": "code",
   "execution_count": 75,
   "id": "a0bcc847",
   "metadata": {},
   "outputs": [
    {
     "name": "stdout",
     "output_type": "stream",
     "text": [
      "(Class_0 : 39922, Class_1: 5289\n"
     ]
    }
   ],
   "source": [
    "class_0, class_1 = df_new.y.value_counts()\n",
    "print('(Class_0 : %d, Class_1: %d' % (class_0, class_1))"
   ]
  },
  {
   "cell_type": "code",
   "execution_count": 76,
   "id": "440fcf1e",
   "metadata": {},
   "outputs": [],
   "source": [
    "df_c0 = df_new[df_new.y == 'no']\n",
    "df_c1 = df_new[df_new.y == 'yes']"
   ]
  },
  {
   "cell_type": "code",
   "execution_count": 77,
   "id": "58992f1c",
   "metadata": {},
   "outputs": [
    {
     "data": {
      "text/plain": [
       "((39922, 16), (5289, 16))"
      ]
     },
     "execution_count": 77,
     "metadata": {},
     "output_type": "execute_result"
    }
   ],
   "source": [
    "df_c0.shape, df_c1.shape"
   ]
  },
  {
   "cell_type": "code",
   "execution_count": 78,
   "id": "671ff018",
   "metadata": {},
   "outputs": [],
   "source": [
    "df_c1_over = df_c1.sample(class_0, replace=True)"
   ]
  },
  {
   "cell_type": "code",
   "execution_count": 79,
   "id": "a732a9fc",
   "metadata": {},
   "outputs": [
    {
     "data": {
      "text/plain": [
       "(39922, 16)"
      ]
     },
     "execution_count": 79,
     "metadata": {},
     "output_type": "execute_result"
    }
   ],
   "source": [
    "df_c1_over.shape"
   ]
  },
  {
   "cell_type": "code",
   "execution_count": 80,
   "id": "42e81ebf",
   "metadata": {},
   "outputs": [
    {
     "data": {
      "text/plain": [
       "(79844, 16)"
      ]
     },
     "execution_count": 80,
     "metadata": {},
     "output_type": "execute_result"
    }
   ],
   "source": [
    "df_new=pd.concat([df_c1_over, df_c0])\n",
    "df_new.shape"
   ]
  },
  {
   "cell_type": "markdown",
   "id": "cf659939",
   "metadata": {},
   "source": [
    "## Over sampling using library"
   ]
  },
  {
   "cell_type": "code",
   "execution_count": 99,
   "id": "e792204d",
   "metadata": {},
   "outputs": [],
   "source": [
    "X = df_new.drop('y', axis=1)\n",
    "y = df_new['y']"
   ]
  },
  {
   "cell_type": "code",
   "execution_count": 100,
   "id": "888dc225",
   "metadata": {},
   "outputs": [
    {
     "name": "stdout",
     "output_type": "stream",
     "text": [
      "Original dataset shape Counter({'no': 39922, 'yes': 5289})\n",
      "Resample dataset shape Counter({'no': 39922, 'yes': 39922})\n"
     ]
    }
   ],
   "source": [
    "# import library\n",
    "from imblearn.over_sampling import RandomOverSampler\n",
    "from collections import Counter\n",
    "\n",
    "ros = RandomOverSampler(random_state=42)\n",
    "\n",
    "# fit predictor and target variablex_ros, y_ros = ros.fit_resample(x, y)\n",
    "\n",
    "X_ros, y_ros = ros.fit_resample(X, y)\n",
    "\n",
    "print('Original dataset shape', Counter(y))\n",
    "print('Resample dataset shape', Counter(y_ros))"
   ]
  },
  {
   "cell_type": "code",
   "execution_count": 115,
   "id": "0960b306",
   "metadata": {},
   "outputs": [
    {
     "data": {
      "text/plain": [
       "(79844, 15)"
      ]
     },
     "execution_count": 115,
     "metadata": {},
     "output_type": "execute_result"
    }
   ],
   "source": [
    "X_ros.shape"
   ]
  },
  {
   "cell_type": "code",
   "execution_count": 101,
   "id": "ce371db9",
   "metadata": {},
   "outputs": [],
   "source": [
    "X = X_ros\n",
    "y = y_ros"
   ]
  },
  {
   "cell_type": "code",
   "execution_count": 81,
   "id": "804d5fd9",
   "metadata": {},
   "outputs": [],
   "source": [
    "X = df_new.drop('y', axis=1)\n",
    "y = df_new['y']"
   ]
  },
  {
   "cell_type": "code",
   "execution_count": 82,
   "id": "f52cd062",
   "metadata": {},
   "outputs": [],
   "source": [
    "cat_features = X.columns.to_list()"
   ]
  },
  {
   "cell_type": "code",
   "execution_count": 83,
   "id": "b7b5e23e",
   "metadata": {},
   "outputs": [
    {
     "data": {
      "text/plain": [
       "['job',\n",
       " 'marital',\n",
       " 'education',\n",
       " 'default',\n",
       " 'housing',\n",
       " 'loan',\n",
       " 'contact',\n",
       " 'poutcome',\n",
       " 'p_contact',\n",
       " 'agecat',\n",
       " 'call_types',\n",
       " 'balance_cat',\n",
       " 'contact_cat',\n",
       " 'day_cat',\n",
       " 'quarters']"
      ]
     },
     "execution_count": 83,
     "metadata": {},
     "output_type": "execute_result"
    }
   ],
   "source": [
    "cat_features"
   ]
  },
  {
   "cell_type": "code",
   "execution_count": 61,
   "id": "165a388d",
   "metadata": {},
   "outputs": [],
   "source": [
    "from catboost import CatBoostClassifier\n",
    "from sklearn.model_selection import train_test_split\n",
    "from sklearn.metrics import accuracy_score, confusion_matrix, classification_report"
   ]
  },
  {
   "cell_type": "code",
   "execution_count": 102,
   "id": "4727692a",
   "metadata": {},
   "outputs": [],
   "source": [
    "X_train, X_test, y_train, y_test = train_test_split(X, y, test_size=.20, random_state=42)"
   ]
  },
  {
   "cell_type": "code",
   "execution_count": 103,
   "id": "a8c6cf4a",
   "metadata": {},
   "outputs": [
    {
     "data": {
      "text/plain": [
       "((63875, 15), (15969, 15))"
      ]
     },
     "execution_count": 103,
     "metadata": {},
     "output_type": "execute_result"
    }
   ],
   "source": [
    "X_train.shape, X_test.shape"
   ]
  },
  {
   "cell_type": "code",
   "execution_count": 104,
   "id": "03e8cfe5",
   "metadata": {},
   "outputs": [
    {
     "name": "stdout",
     "output_type": "stream",
     "text": [
      "Learning rate set to 0.5\n",
      "0:\tlearn: 0.5753234\ttotal: 31.2ms\tremaining: 593ms\n",
      "1:\tlearn: 0.5098543\ttotal: 61.5ms\tremaining: 553ms\n",
      "2:\tlearn: 0.4856006\ttotal: 94.4ms\tremaining: 535ms\n",
      "3:\tlearn: 0.4633807\ttotal: 128ms\tremaining: 512ms\n",
      "4:\tlearn: 0.4544173\ttotal: 158ms\tremaining: 473ms\n",
      "5:\tlearn: 0.4305583\ttotal: 189ms\tremaining: 441ms\n",
      "6:\tlearn: 0.4224051\ttotal: 223ms\tremaining: 414ms\n",
      "7:\tlearn: 0.4167004\ttotal: 254ms\tremaining: 381ms\n",
      "8:\tlearn: 0.4135703\ttotal: 286ms\tremaining: 350ms\n",
      "9:\tlearn: 0.4099870\ttotal: 318ms\tremaining: 318ms\n",
      "10:\tlearn: 0.4048133\ttotal: 350ms\tremaining: 286ms\n",
      "11:\tlearn: 0.4013743\ttotal: 380ms\tremaining: 253ms\n",
      "12:\tlearn: 0.3991841\ttotal: 413ms\tremaining: 222ms\n",
      "13:\tlearn: 0.3971788\ttotal: 445ms\tremaining: 191ms\n",
      "14:\tlearn: 0.3959826\ttotal: 478ms\tremaining: 159ms\n",
      "15:\tlearn: 0.3929936\ttotal: 510ms\tremaining: 128ms\n",
      "16:\tlearn: 0.3915724\ttotal: 541ms\tremaining: 95.5ms\n",
      "17:\tlearn: 0.3902524\ttotal: 572ms\tremaining: 63.5ms\n",
      "18:\tlearn: 0.3897035\ttotal: 602ms\tremaining: 31.7ms\n",
      "19:\tlearn: 0.3891976\ttotal: 632ms\tremaining: 0us\n"
     ]
    },
    {
     "data": {
      "text/plain": [
       "<catboost.core.CatBoostClassifier at 0x20d4825d490>"
      ]
     },
     "execution_count": 104,
     "metadata": {},
     "output_type": "execute_result"
    }
   ],
   "source": [
    "\n",
    "clf = CatBoostClassifier(\n",
    "    iterations=20\n",
    "#     verbose=5,\n",
    ")\n",
    "\n",
    "clf.fit(\n",
    "    X_train, y_train,\n",
    "    cat_features=cat_features\n",
    ")"
   ]
  },
  {
   "cell_type": "code",
   "execution_count": 105,
   "id": "7a53df6a",
   "metadata": {},
   "outputs": [],
   "source": [
    "y_pred = clf.predict(X_test)"
   ]
  },
  {
   "cell_type": "code",
   "execution_count": 106,
   "id": "3f1c98cc",
   "metadata": {},
   "outputs": [
    {
     "data": {
      "text/plain": [
       "81.88"
      ]
     },
     "execution_count": 106,
     "metadata": {},
     "output_type": "execute_result"
    }
   ],
   "source": [
    "round(accuracy_score(y_test, y_pred)*100,2)"
   ]
  },
  {
   "cell_type": "code",
   "execution_count": 107,
   "id": "1390171d",
   "metadata": {},
   "outputs": [
    {
     "name": "stdout",
     "output_type": "stream",
     "text": [
      "              precision    recall  f1-score   support\n",
      "\n",
      "          no       0.87      0.75      0.80      7908\n",
      "         yes       0.78      0.89      0.83      8061\n",
      "\n",
      "    accuracy                           0.82     15969\n",
      "   macro avg       0.83      0.82      0.82     15969\n",
      "weighted avg       0.82      0.82      0.82     15969\n",
      "\n"
     ]
    }
   ],
   "source": [
    "print(classification_report(y_test, y_pred))"
   ]
  },
  {
   "cell_type": "code",
   "execution_count": 108,
   "id": "60ab2d93",
   "metadata": {},
   "outputs": [
    {
     "data": {
      "text/plain": [
       "array([[5912, 1996],\n",
       "       [ 898, 7163]], dtype=int64)"
      ]
     },
     "execution_count": 108,
     "metadata": {},
     "output_type": "execute_result"
    }
   ],
   "source": [
    "confusion_matrix(y_test, y_pred)"
   ]
  },
  {
   "cell_type": "code",
   "execution_count": 109,
   "id": "01eb062d",
   "metadata": {},
   "outputs": [
    {
     "data": {
      "text/plain": [
       "no     39922\n",
       "yes     5289\n",
       "Name: y, dtype: int64"
      ]
     },
     "execution_count": 109,
     "metadata": {},
     "output_type": "execute_result"
    }
   ],
   "source": [
    "df_new.y.value_counts()"
   ]
  },
  {
   "cell_type": "code",
   "execution_count": 116,
   "id": "bae0e50a",
   "metadata": {},
   "outputs": [
    {
     "data": {
      "text/html": [
       "<div>\n",
       "<style scoped>\n",
       "    .dataframe tbody tr th:only-of-type {\n",
       "        vertical-align: middle;\n",
       "    }\n",
       "\n",
       "    .dataframe tbody tr th {\n",
       "        vertical-align: top;\n",
       "    }\n",
       "\n",
       "    .dataframe thead th {\n",
       "        text-align: right;\n",
       "    }\n",
       "</style>\n",
       "<table border=\"1\" class=\"dataframe\">\n",
       "  <thead>\n",
       "    <tr style=\"text-align: right;\">\n",
       "      <th></th>\n",
       "      <th>job</th>\n",
       "      <th>marital</th>\n",
       "      <th>education</th>\n",
       "      <th>default</th>\n",
       "      <th>housing</th>\n",
       "      <th>loan</th>\n",
       "      <th>contact</th>\n",
       "      <th>poutcome</th>\n",
       "      <th>p_contact</th>\n",
       "      <th>agecat</th>\n",
       "      <th>call_types</th>\n",
       "      <th>balance_cat</th>\n",
       "      <th>contact_cat</th>\n",
       "      <th>day_cat</th>\n",
       "      <th>quarters</th>\n",
       "    </tr>\n",
       "  </thead>\n",
       "  <tbody>\n",
       "    <tr>\n",
       "      <th>0</th>\n",
       "      <td>management</td>\n",
       "      <td>married</td>\n",
       "      <td>tertiary</td>\n",
       "      <td>no</td>\n",
       "      <td>yes</td>\n",
       "      <td>no</td>\n",
       "      <td>unknown</td>\n",
       "      <td>other</td>\n",
       "      <td>no_contact</td>\n",
       "      <td>uppermiddle</td>\n",
       "      <td>medium</td>\n",
       "      <td>very_high</td>\n",
       "      <td>low</td>\n",
       "      <td>first</td>\n",
       "      <td>q2</td>\n",
       "    </tr>\n",
       "    <tr>\n",
       "      <th>1</th>\n",
       "      <td>services</td>\n",
       "      <td>single</td>\n",
       "      <td>secondary</td>\n",
       "      <td>no</td>\n",
       "      <td>yes</td>\n",
       "      <td>no</td>\n",
       "      <td>unknown</td>\n",
       "      <td>other</td>\n",
       "      <td>no_contact</td>\n",
       "      <td>middle</td>\n",
       "      <td>medium</td>\n",
       "      <td>low</td>\n",
       "      <td>low</td>\n",
       "      <td>first</td>\n",
       "      <td>q2</td>\n",
       "    </tr>\n",
       "    <tr>\n",
       "      <th>2</th>\n",
       "      <td>entrepreneur</td>\n",
       "      <td>married</td>\n",
       "      <td>secondary</td>\n",
       "      <td>no</td>\n",
       "      <td>yes</td>\n",
       "      <td>yes</td>\n",
       "      <td>unknown</td>\n",
       "      <td>other</td>\n",
       "      <td>no_contact</td>\n",
       "      <td>middle</td>\n",
       "      <td>short</td>\n",
       "      <td>low</td>\n",
       "      <td>low</td>\n",
       "      <td>first</td>\n",
       "      <td>q2</td>\n",
       "    </tr>\n",
       "    <tr>\n",
       "      <th>3</th>\n",
       "      <td>services</td>\n",
       "      <td>married</td>\n",
       "      <td>unknown</td>\n",
       "      <td>no</td>\n",
       "      <td>yes</td>\n",
       "      <td>no</td>\n",
       "      <td>unknown</td>\n",
       "      <td>other</td>\n",
       "      <td>no_contact</td>\n",
       "      <td>uppermiddle</td>\n",
       "      <td>short</td>\n",
       "      <td>very_high</td>\n",
       "      <td>low</td>\n",
       "      <td>first</td>\n",
       "      <td>q2</td>\n",
       "    </tr>\n",
       "    <tr>\n",
       "      <th>4</th>\n",
       "      <td>unemployed</td>\n",
       "      <td>single</td>\n",
       "      <td>unknown</td>\n",
       "      <td>no</td>\n",
       "      <td>no</td>\n",
       "      <td>no</td>\n",
       "      <td>unknown</td>\n",
       "      <td>other</td>\n",
       "      <td>no_contact</td>\n",
       "      <td>middle</td>\n",
       "      <td>medium</td>\n",
       "      <td>low</td>\n",
       "      <td>low</td>\n",
       "      <td>first</td>\n",
       "      <td>q2</td>\n",
       "    </tr>\n",
       "  </tbody>\n",
       "</table>\n",
       "</div>"
      ],
      "text/plain": [
       "            job  marital  education default housing loan  contact poutcome  \\\n",
       "0    management  married   tertiary      no     yes   no  unknown    other   \n",
       "1      services   single  secondary      no     yes   no  unknown    other   \n",
       "2  entrepreneur  married  secondary      no     yes  yes  unknown    other   \n",
       "3      services  married    unknown      no     yes   no  unknown    other   \n",
       "4    unemployed   single    unknown      no      no   no  unknown    other   \n",
       "\n",
       "    p_contact       agecat call_types balance_cat contact_cat day_cat quarters  \n",
       "0  no_contact  uppermiddle     medium   very_high         low   first       q2  \n",
       "1  no_contact       middle     medium         low         low   first       q2  \n",
       "2  no_contact       middle      short         low         low   first       q2  \n",
       "3  no_contact  uppermiddle      short   very_high         low   first       q2  \n",
       "4  no_contact       middle     medium         low         low   first       q2  "
      ]
     },
     "execution_count": 116,
     "metadata": {},
     "output_type": "execute_result"
    }
   ],
   "source": [
    "X_ros.head()"
   ]
  },
  {
   "cell_type": "code",
   "execution_count": 117,
   "id": "3f05b35d",
   "metadata": {},
   "outputs": [],
   "source": [
    "df_new1 = X_ros.join(y_ros)"
   ]
  },
  {
   "cell_type": "code",
   "execution_count": 118,
   "id": "4dd7e9f0",
   "metadata": {},
   "outputs": [
    {
     "data": {
      "text/html": [
       "<div>\n",
       "<style scoped>\n",
       "    .dataframe tbody tr th:only-of-type {\n",
       "        vertical-align: middle;\n",
       "    }\n",
       "\n",
       "    .dataframe tbody tr th {\n",
       "        vertical-align: top;\n",
       "    }\n",
       "\n",
       "    .dataframe thead th {\n",
       "        text-align: right;\n",
       "    }\n",
       "</style>\n",
       "<table border=\"1\" class=\"dataframe\">\n",
       "  <thead>\n",
       "    <tr style=\"text-align: right;\">\n",
       "      <th></th>\n",
       "      <th>job</th>\n",
       "      <th>marital</th>\n",
       "      <th>education</th>\n",
       "      <th>default</th>\n",
       "      <th>housing</th>\n",
       "      <th>loan</th>\n",
       "      <th>contact</th>\n",
       "      <th>poutcome</th>\n",
       "      <th>p_contact</th>\n",
       "      <th>agecat</th>\n",
       "      <th>call_types</th>\n",
       "      <th>balance_cat</th>\n",
       "      <th>contact_cat</th>\n",
       "      <th>day_cat</th>\n",
       "      <th>quarters</th>\n",
       "      <th>y</th>\n",
       "    </tr>\n",
       "  </thead>\n",
       "  <tbody>\n",
       "    <tr>\n",
       "      <th>0</th>\n",
       "      <td>management</td>\n",
       "      <td>married</td>\n",
       "      <td>tertiary</td>\n",
       "      <td>no</td>\n",
       "      <td>yes</td>\n",
       "      <td>no</td>\n",
       "      <td>unknown</td>\n",
       "      <td>other</td>\n",
       "      <td>no_contact</td>\n",
       "      <td>uppermiddle</td>\n",
       "      <td>medium</td>\n",
       "      <td>very_high</td>\n",
       "      <td>low</td>\n",
       "      <td>first</td>\n",
       "      <td>q2</td>\n",
       "      <td>no</td>\n",
       "    </tr>\n",
       "    <tr>\n",
       "      <th>1</th>\n",
       "      <td>services</td>\n",
       "      <td>single</td>\n",
       "      <td>secondary</td>\n",
       "      <td>no</td>\n",
       "      <td>yes</td>\n",
       "      <td>no</td>\n",
       "      <td>unknown</td>\n",
       "      <td>other</td>\n",
       "      <td>no_contact</td>\n",
       "      <td>middle</td>\n",
       "      <td>medium</td>\n",
       "      <td>low</td>\n",
       "      <td>low</td>\n",
       "      <td>first</td>\n",
       "      <td>q2</td>\n",
       "      <td>no</td>\n",
       "    </tr>\n",
       "    <tr>\n",
       "      <th>2</th>\n",
       "      <td>entrepreneur</td>\n",
       "      <td>married</td>\n",
       "      <td>secondary</td>\n",
       "      <td>no</td>\n",
       "      <td>yes</td>\n",
       "      <td>yes</td>\n",
       "      <td>unknown</td>\n",
       "      <td>other</td>\n",
       "      <td>no_contact</td>\n",
       "      <td>middle</td>\n",
       "      <td>short</td>\n",
       "      <td>low</td>\n",
       "      <td>low</td>\n",
       "      <td>first</td>\n",
       "      <td>q2</td>\n",
       "      <td>no</td>\n",
       "    </tr>\n",
       "    <tr>\n",
       "      <th>3</th>\n",
       "      <td>services</td>\n",
       "      <td>married</td>\n",
       "      <td>unknown</td>\n",
       "      <td>no</td>\n",
       "      <td>yes</td>\n",
       "      <td>no</td>\n",
       "      <td>unknown</td>\n",
       "      <td>other</td>\n",
       "      <td>no_contact</td>\n",
       "      <td>uppermiddle</td>\n",
       "      <td>short</td>\n",
       "      <td>very_high</td>\n",
       "      <td>low</td>\n",
       "      <td>first</td>\n",
       "      <td>q2</td>\n",
       "      <td>no</td>\n",
       "    </tr>\n",
       "    <tr>\n",
       "      <th>4</th>\n",
       "      <td>unemployed</td>\n",
       "      <td>single</td>\n",
       "      <td>unknown</td>\n",
       "      <td>no</td>\n",
       "      <td>no</td>\n",
       "      <td>no</td>\n",
       "      <td>unknown</td>\n",
       "      <td>other</td>\n",
       "      <td>no_contact</td>\n",
       "      <td>middle</td>\n",
       "      <td>medium</td>\n",
       "      <td>low</td>\n",
       "      <td>low</td>\n",
       "      <td>first</td>\n",
       "      <td>q2</td>\n",
       "      <td>no</td>\n",
       "    </tr>\n",
       "  </tbody>\n",
       "</table>\n",
       "</div>"
      ],
      "text/plain": [
       "            job  marital  education default housing loan  contact poutcome  \\\n",
       "0    management  married   tertiary      no     yes   no  unknown    other   \n",
       "1      services   single  secondary      no     yes   no  unknown    other   \n",
       "2  entrepreneur  married  secondary      no     yes  yes  unknown    other   \n",
       "3      services  married    unknown      no     yes   no  unknown    other   \n",
       "4    unemployed   single    unknown      no      no   no  unknown    other   \n",
       "\n",
       "    p_contact       agecat call_types balance_cat contact_cat day_cat  \\\n",
       "0  no_contact  uppermiddle     medium   very_high         low   first   \n",
       "1  no_contact       middle     medium         low         low   first   \n",
       "2  no_contact       middle      short         low         low   first   \n",
       "3  no_contact  uppermiddle      short   very_high         low   first   \n",
       "4  no_contact       middle     medium         low         low   first   \n",
       "\n",
       "  quarters   y  \n",
       "0       q2  no  \n",
       "1       q2  no  \n",
       "2       q2  no  \n",
       "3       q2  no  \n",
       "4       q2  no  "
      ]
     },
     "execution_count": 118,
     "metadata": {},
     "output_type": "execute_result"
    }
   ],
   "source": [
    "df_new1.head()"
   ]
  },
  {
   "cell_type": "code",
   "execution_count": 119,
   "id": "f069a98f",
   "metadata": {},
   "outputs": [],
   "source": [
    "df_yes = df_new1[df_new1.y == 'yes']"
   ]
  },
  {
   "cell_type": "code",
   "execution_count": 125,
   "id": "81387eba",
   "metadata": {},
   "outputs": [
    {
     "data": {
      "text/plain": [
       "(39922, 16)"
      ]
     },
     "execution_count": 125,
     "metadata": {},
     "output_type": "execute_result"
    }
   ],
   "source": [
    "df_yes.shape"
   ]
  },
  {
   "cell_type": "code",
   "execution_count": 123,
   "id": "2155e25c",
   "metadata": {},
   "outputs": [],
   "source": [
    "df_yes_wod = df_new1.drop_duplicates(keep='first')"
   ]
  },
  {
   "cell_type": "code",
   "execution_count": 124,
   "id": "152e5c85",
   "metadata": {},
   "outputs": [
    {
     "data": {
      "text/plain": [
       "(29858, 16)"
      ]
     },
     "execution_count": 124,
     "metadata": {},
     "output_type": "execute_result"
    }
   ],
   "source": [
    "df_yes_wod.shape"
   ]
  },
  {
   "cell_type": "code",
   "execution_count": null,
   "id": "dc37099c",
   "metadata": {},
   "outputs": [],
   "source": []
  }
 ],
 "metadata": {
  "kernelspec": {
   "display_name": "Python 3 (ipykernel)",
   "language": "python",
   "name": "python3"
  },
  "language_info": {
   "codemirror_mode": {
    "name": "ipython",
    "version": 3
   },
   "file_extension": ".py",
   "mimetype": "text/x-python",
   "name": "python",
   "nbconvert_exporter": "python",
   "pygments_lexer": "ipython3",
   "version": "3.9.13"
  }
 },
 "nbformat": 4,
 "nbformat_minor": 5
}
